{
 "cells": [
  {
   "cell_type": "code",
   "execution_count": 1,
   "metadata": {},
   "outputs": [],
   "source": [
    "import warnings\n",
    "warnings.filterwarnings('ignore')\n",
    "\n",
    "\n",
    "import pandas as pd\n",
    "import numpy as np\n",
    "import math\n",
    "\n",
    "from sklearn.model_selection import train_test_split\n",
    "\n",
    "import time # module time is used to handle time-related tasks\n",
    "\n",
    "pd.set_option('display.max_rows', None) # to display all the values in a dataframe"
   ]
  },
  {
   "cell_type": "markdown",
   "metadata": {},
   "source": [
    "### Loading Dataset"
   ]
  },
  {
   "cell_type": "code",
   "execution_count": 4,
   "metadata": {},
   "outputs": [
    {
     "data": {
      "text/html": [
       "<div>\n",
       "<style scoped>\n",
       "    .dataframe tbody tr th:only-of-type {\n",
       "        vertical-align: middle;\n",
       "    }\n",
       "\n",
       "    .dataframe tbody tr th {\n",
       "        vertical-align: top;\n",
       "    }\n",
       "\n",
       "    .dataframe thead th {\n",
       "        text-align: right;\n",
       "    }\n",
       "</style>\n",
       "<table border=\"1\" class=\"dataframe\">\n",
       "  <thead>\n",
       "    <tr style=\"text-align: right;\">\n",
       "      <th></th>\n",
       "      <th>V1</th>\n",
       "      <th>V2</th>\n",
       "      <th>V3</th>\n",
       "      <th>V4</th>\n",
       "      <th>V5</th>\n",
       "      <th>V6</th>\n",
       "      <th>V7</th>\n",
       "      <th>V8</th>\n",
       "      <th>V9</th>\n",
       "      <th>V10</th>\n",
       "      <th>...</th>\n",
       "      <th>V77</th>\n",
       "      <th>V78</th>\n",
       "      <th>V79</th>\n",
       "      <th>V80</th>\n",
       "      <th>V81</th>\n",
       "      <th>V82</th>\n",
       "      <th>V83</th>\n",
       "      <th>V84</th>\n",
       "      <th>V85</th>\n",
       "      <th>V86</th>\n",
       "    </tr>\n",
       "  </thead>\n",
       "  <tbody>\n",
       "    <tr>\n",
       "      <th>0</th>\n",
       "      <td>33</td>\n",
       "      <td>1</td>\n",
       "      <td>3</td>\n",
       "      <td>2</td>\n",
       "      <td>8</td>\n",
       "      <td>0</td>\n",
       "      <td>5</td>\n",
       "      <td>1</td>\n",
       "      <td>3</td>\n",
       "      <td>7</td>\n",
       "      <td>...</td>\n",
       "      <td>0</td>\n",
       "      <td>0</td>\n",
       "      <td>0</td>\n",
       "      <td>1</td>\n",
       "      <td>0</td>\n",
       "      <td>0</td>\n",
       "      <td>0</td>\n",
       "      <td>0</td>\n",
       "      <td>0</td>\n",
       "      <td>0</td>\n",
       "    </tr>\n",
       "    <tr>\n",
       "      <th>1</th>\n",
       "      <td>37</td>\n",
       "      <td>1</td>\n",
       "      <td>2</td>\n",
       "      <td>2</td>\n",
       "      <td>8</td>\n",
       "      <td>1</td>\n",
       "      <td>4</td>\n",
       "      <td>1</td>\n",
       "      <td>4</td>\n",
       "      <td>6</td>\n",
       "      <td>...</td>\n",
       "      <td>0</td>\n",
       "      <td>0</td>\n",
       "      <td>0</td>\n",
       "      <td>1</td>\n",
       "      <td>0</td>\n",
       "      <td>0</td>\n",
       "      <td>0</td>\n",
       "      <td>0</td>\n",
       "      <td>0</td>\n",
       "      <td>0</td>\n",
       "    </tr>\n",
       "    <tr>\n",
       "      <th>2</th>\n",
       "      <td>37</td>\n",
       "      <td>1</td>\n",
       "      <td>2</td>\n",
       "      <td>2</td>\n",
       "      <td>8</td>\n",
       "      <td>0</td>\n",
       "      <td>4</td>\n",
       "      <td>2</td>\n",
       "      <td>4</td>\n",
       "      <td>3</td>\n",
       "      <td>...</td>\n",
       "      <td>0</td>\n",
       "      <td>0</td>\n",
       "      <td>0</td>\n",
       "      <td>1</td>\n",
       "      <td>0</td>\n",
       "      <td>0</td>\n",
       "      <td>0</td>\n",
       "      <td>0</td>\n",
       "      <td>0</td>\n",
       "      <td>0</td>\n",
       "    </tr>\n",
       "    <tr>\n",
       "      <th>3</th>\n",
       "      <td>9</td>\n",
       "      <td>1</td>\n",
       "      <td>3</td>\n",
       "      <td>3</td>\n",
       "      <td>3</td>\n",
       "      <td>2</td>\n",
       "      <td>3</td>\n",
       "      <td>2</td>\n",
       "      <td>4</td>\n",
       "      <td>5</td>\n",
       "      <td>...</td>\n",
       "      <td>0</td>\n",
       "      <td>0</td>\n",
       "      <td>0</td>\n",
       "      <td>1</td>\n",
       "      <td>0</td>\n",
       "      <td>0</td>\n",
       "      <td>0</td>\n",
       "      <td>0</td>\n",
       "      <td>0</td>\n",
       "      <td>0</td>\n",
       "    </tr>\n",
       "    <tr>\n",
       "      <th>4</th>\n",
       "      <td>40</td>\n",
       "      <td>1</td>\n",
       "      <td>4</td>\n",
       "      <td>2</td>\n",
       "      <td>10</td>\n",
       "      <td>1</td>\n",
       "      <td>4</td>\n",
       "      <td>1</td>\n",
       "      <td>4</td>\n",
       "      <td>7</td>\n",
       "      <td>...</td>\n",
       "      <td>0</td>\n",
       "      <td>0</td>\n",
       "      <td>0</td>\n",
       "      <td>1</td>\n",
       "      <td>0</td>\n",
       "      <td>0</td>\n",
       "      <td>0</td>\n",
       "      <td>0</td>\n",
       "      <td>0</td>\n",
       "      <td>0</td>\n",
       "    </tr>\n",
       "  </tbody>\n",
       "</table>\n",
       "<p>5 rows × 86 columns</p>\n",
       "</div>"
      ],
      "text/plain": [
       "   V1  V2  V3  V4  V5  V6  V7  V8  V9  V10  ...  V77  V78  V79  V80  V81  V82  \\\n",
       "0  33   1   3   2   8   0   5   1   3    7  ...    0    0    0    1    0    0   \n",
       "1  37   1   2   2   8   1   4   1   4    6  ...    0    0    0    1    0    0   \n",
       "2  37   1   2   2   8   0   4   2   4    3  ...    0    0    0    1    0    0   \n",
       "3   9   1   3   3   3   2   3   2   4    5  ...    0    0    0    1    0    0   \n",
       "4  40   1   4   2  10   1   4   1   4    7  ...    0    0    0    1    0    0   \n",
       "\n",
       "   V83  V84  V85  V86  \n",
       "0    0    0    0    0  \n",
       "1    0    0    0    0  \n",
       "2    0    0    0    0  \n",
       "3    0    0    0    0  \n",
       "4    0    0    0    0  \n",
       "\n",
       "[5 rows x 86 columns]"
      ]
     },
     "execution_count": 4,
     "metadata": {},
     "output_type": "execute_result"
    }
   ],
   "source": [
    "datafile_train = r'D:/Akash/Data Science/Edvancer Python/Project_2/carvan_train.csv'\n",
    "datafile_test = r'D:/Akash/Data Science/Edvancer Python/Project_2/carvan_test.csv'\n",
    "carv_train = pd.read_csv(datafile_train)\n",
    "carv_test =  pd.read_csv(datafile_test)\n",
    "\n",
    "carv_train.head()"
   ]
  },
  {
   "cell_type": "code",
   "execution_count": 7,
   "metadata": {},
   "outputs": [
    {
     "data": {
      "text/plain": [
       "V1     int64\n",
       "V2     int64\n",
       "V3     int64\n",
       "V4     int64\n",
       "V5     int64\n",
       "V6     int64\n",
       "V7     int64\n",
       "V8     int64\n",
       "V9     int64\n",
       "V10    int64\n",
       "V11    int64\n",
       "V12    int64\n",
       "V13    int64\n",
       "V14    int64\n",
       "V15    int64\n",
       "V16    int64\n",
       "V17    int64\n",
       "V18    int64\n",
       "V19    int64\n",
       "V20    int64\n",
       "V21    int64\n",
       "V22    int64\n",
       "V23    int64\n",
       "V24    int64\n",
       "V25    int64\n",
       "V26    int64\n",
       "V27    int64\n",
       "V28    int64\n",
       "V29    int64\n",
       "V30    int64\n",
       "V31    int64\n",
       "V32    int64\n",
       "V33    int64\n",
       "V34    int64\n",
       "V35    int64\n",
       "V36    int64\n",
       "V37    int64\n",
       "V38    int64\n",
       "V39    int64\n",
       "V40    int64\n",
       "V41    int64\n",
       "V42    int64\n",
       "V43    int64\n",
       "V44    int64\n",
       "V45    int64\n",
       "V46    int64\n",
       "V47    int64\n",
       "V48    int64\n",
       "V49    int64\n",
       "V50    int64\n",
       "V51    int64\n",
       "V52    int64\n",
       "V53    int64\n",
       "V54    int64\n",
       "V55    int64\n",
       "V56    int64\n",
       "V57    int64\n",
       "V58    int64\n",
       "V59    int64\n",
       "V60    int64\n",
       "V61    int64\n",
       "V62    int64\n",
       "V63    int64\n",
       "V64    int64\n",
       "V65    int64\n",
       "V66    int64\n",
       "V67    int64\n",
       "V68    int64\n",
       "V69    int64\n",
       "V70    int64\n",
       "V71    int64\n",
       "V72    int64\n",
       "V73    int64\n",
       "V74    int64\n",
       "V75    int64\n",
       "V76    int64\n",
       "V77    int64\n",
       "V78    int64\n",
       "V79    int64\n",
       "V80    int64\n",
       "V81    int64\n",
       "V82    int64\n",
       "V83    int64\n",
       "V84    int64\n",
       "V85    int64\n",
       "V86    int64\n",
       "dtype: object"
      ]
     },
     "execution_count": 7,
     "metadata": {},
     "output_type": "execute_result"
    }
   ],
   "source": [
    "carv_train.dtypes # all are integers"
   ]
  },
  {
   "cell_type": "code",
   "execution_count": 8,
   "metadata": {},
   "outputs": [
    {
     "data": {
      "text/plain": [
       "0    5474\n",
       "1     348\n",
       "Name: V86, dtype: int64"
      ]
     },
     "execution_count": 8,
     "metadata": {},
     "output_type": "execute_result"
    }
   ],
   "source": [
    "carv_train[\"V86\"].value_counts() # target is not balanced & binary classification problem"
   ]
  },
  {
   "cell_type": "code",
   "execution_count": 9,
   "metadata": {},
   "outputs": [
    {
     "data": {
      "text/plain": [
       "V1     0\n",
       "V2     0\n",
       "V3     0\n",
       "V4     0\n",
       "V5     0\n",
       "V6     0\n",
       "V7     0\n",
       "V8     0\n",
       "V9     0\n",
       "V10    0\n",
       "V11    0\n",
       "V12    0\n",
       "V13    0\n",
       "V14    0\n",
       "V15    0\n",
       "V16    0\n",
       "V17    0\n",
       "V18    0\n",
       "V19    0\n",
       "V20    0\n",
       "V21    0\n",
       "V22    0\n",
       "V23    0\n",
       "V24    0\n",
       "V25    0\n",
       "V26    0\n",
       "V27    0\n",
       "V28    0\n",
       "V29    0\n",
       "V30    0\n",
       "V31    0\n",
       "V32    0\n",
       "V33    0\n",
       "V34    0\n",
       "V35    0\n",
       "V36    0\n",
       "V37    0\n",
       "V38    0\n",
       "V39    0\n",
       "V40    0\n",
       "V41    0\n",
       "V42    0\n",
       "V43    0\n",
       "V44    0\n",
       "V45    0\n",
       "V46    0\n",
       "V47    0\n",
       "V48    0\n",
       "V49    0\n",
       "V50    0\n",
       "V51    0\n",
       "V52    0\n",
       "V53    0\n",
       "V54    0\n",
       "V55    0\n",
       "V56    0\n",
       "V57    0\n",
       "V58    0\n",
       "V59    0\n",
       "V60    0\n",
       "V61    0\n",
       "V62    0\n",
       "V63    0\n",
       "V64    0\n",
       "V65    0\n",
       "V66    0\n",
       "V67    0\n",
       "V68    0\n",
       "V69    0\n",
       "V70    0\n",
       "V71    0\n",
       "V72    0\n",
       "V73    0\n",
       "V74    0\n",
       "V75    0\n",
       "V76    0\n",
       "V77    0\n",
       "V78    0\n",
       "V79    0\n",
       "V80    0\n",
       "V81    0\n",
       "V82    0\n",
       "V83    0\n",
       "V84    0\n",
       "V85    0\n",
       "V86    0\n",
       "dtype: int64"
      ]
     },
     "execution_count": 9,
     "metadata": {},
     "output_type": "execute_result"
    }
   ],
   "source": [
    "carv_train.isnull().sum() # no Nans"
   ]
  },
  {
   "cell_type": "code",
   "execution_count": 11,
   "metadata": {},
   "outputs": [
    {
     "name": "stdout",
     "output_type": "stream",
     "text": [
      "V1 : 40\n",
      "V2 : 9\n",
      "V3 : 5\n",
      "V4 : 6\n",
      "V5 : 10\n",
      "V6 : 10\n",
      "V7 : 10\n",
      "V8 : 6\n",
      "V9 : 10\n",
      "V10 : 10\n",
      "V11 : 8\n",
      "V12 : 10\n",
      "V13 : 10\n",
      "V14 : 10\n",
      "V15 : 10\n",
      "V16 : 10\n",
      "V17 : 10\n",
      "V18 : 10\n",
      "V19 : 10\n",
      "V20 : 6\n",
      "V21 : 10\n",
      "V22 : 10\n",
      "V23 : 10\n",
      "V24 : 10\n",
      "V25 : 10\n",
      "V26 : 10\n",
      "V27 : 10\n",
      "V28 : 10\n",
      "V29 : 9\n",
      "V30 : 10\n",
      "V31 : 10\n",
      "V32 : 10\n",
      "V33 : 8\n",
      "V34 : 10\n",
      "V35 : 10\n",
      "V36 : 10\n",
      "V37 : 10\n",
      "V38 : 10\n",
      "V39 : 10\n",
      "V40 : 10\n",
      "V41 : 8\n",
      "V42 : 10\n",
      "V43 : 8\n",
      "V44 : 4\n",
      "V45 : 7\n",
      "V46 : 4\n",
      "V47 : 6\n",
      "V48 : 4\n",
      "V49 : 6\n",
      "V50 : 4\n",
      "V51 : 6\n",
      "V52 : 5\n",
      "V53 : 5\n",
      "V54 : 6\n",
      "V55 : 10\n",
      "V56 : 7\n",
      "V57 : 3\n",
      "V58 : 5\n",
      "V59 : 9\n",
      "V60 : 3\n",
      "V61 : 7\n",
      "V62 : 2\n",
      "V63 : 7\n",
      "V64 : 5\n",
      "V65 : 3\n",
      "V66 : 3\n",
      "V67 : 2\n",
      "V68 : 7\n",
      "V69 : 5\n",
      "V70 : 4\n",
      "V71 : 4\n",
      "V72 : 4\n",
      "V73 : 5\n",
      "V74 : 5\n",
      "V75 : 3\n",
      "V76 : 6\n",
      "V77 : 2\n",
      "V78 : 2\n",
      "V79 : 3\n",
      "V80 : 7\n",
      "V81 : 2\n",
      "V82 : 3\n",
      "V83 : 4\n",
      "V84 : 3\n",
      "V85 : 3\n",
      "V86 : 2\n"
     ]
    }
   ],
   "source": [
    "for col in carv_train.columns:\n",
    "    print(col,':',carv_train[col].nunique())\n",
    "# Except V1 all other variables are within 10 categories"
   ]
  },
  {
   "cell_type": "code",
   "execution_count": 6,
   "metadata": {},
   "outputs": [
    {
     "data": {
      "text/plain": [
       "(5822, 86)"
      ]
     },
     "execution_count": 6,
     "metadata": {},
     "output_type": "execute_result"
    }
   ],
   "source": [
    "carv_train.shape"
   ]
  },
  {
   "cell_type": "code",
   "execution_count": 19,
   "metadata": {},
   "outputs": [
    {
     "data": {
      "text/plain": [
       "5.977327378907591"
      ]
     },
     "execution_count": 19,
     "metadata": {},
     "output_type": "execute_result"
    }
   ],
   "source": [
    "# percentage of response variable is 1 in the training data\n",
    "len(carv_train[carv_train[\"V86\"] == 1])/len(carv_train)* 100"
   ]
  },
  {
   "cell_type": "code",
   "execution_count": 13,
   "metadata": {},
   "outputs": [
    {
     "data": {
      "text/plain": [
       "348"
      ]
     },
     "execution_count": 13,
     "metadata": {},
     "output_type": "execute_result"
    }
   ],
   "source": [
    "carv_train[\"V86\"].value_counts()[1]"
   ]
  },
  {
   "cell_type": "code",
   "execution_count": 14,
   "metadata": {},
   "outputs": [
    {
     "data": {
      "text/plain": [
       "5822"
      ]
     },
     "execution_count": 14,
     "metadata": {},
     "output_type": "execute_result"
    }
   ],
   "source": [
    "len(carv_train)"
   ]
  },
  {
   "cell_type": "code",
   "execution_count": 20,
   "metadata": {},
   "outputs": [
    {
     "data": {
      "text/plain": [
       "1     5267\n",
       "2      505\n",
       "3       39\n",
       "7        5\n",
       "4        2\n",
       "10       1\n",
       "6        1\n",
       "5        1\n",
       "8        1\n",
       "Name: V2, dtype: int64"
      ]
     },
     "execution_count": 20,
     "metadata": {},
     "output_type": "execute_result"
    }
   ],
   "source": [
    "carv_train[\"V2\"].value_counts()"
   ]
  },
  {
   "cell_type": "code",
   "execution_count": 21,
   "metadata": {},
   "outputs": [
    {
     "data": {
      "text/plain": [
       "3    3000\n",
       "2    1452\n",
       "4    1073\n",
       "5     193\n",
       "1      74\n",
       "6      30\n",
       "Name: V4, dtype: int64"
      ]
     },
     "execution_count": 21,
     "metadata": {},
     "output_type": "execute_result"
    }
   ],
   "source": [
    "carv_train[\"V4\"].value_counts()"
   ]
  },
  {
   "cell_type": "markdown",
   "metadata": {},
   "source": [
    "### Data Preparation"
   ]
  },
  {
   "cell_type": "code",
   "execution_count": 2,
   "metadata": {},
   "outputs": [
    {
     "name": "stdout",
     "output_type": "stream",
     "text": [
      "V1\n",
      "V5\n"
     ]
    }
   ],
   "source": [
    "datafile_train = r'D:/Akash/Data Science/Edvancer Python/Project_2/carvan_train.csv'\n",
    "datafile_test = r'D:/Akash/Data Science/Edvancer Python/Project_2/carvan_test.csv'\n",
    "carv_train = pd.read_csv(datafile_train)\n",
    "carv_test =  pd.read_csv(datafile_test)\n",
    "\n",
    "# combine train and test dataset for preprocessing\n",
    "carv_test['V86'] = np.nan \n",
    "carv_train['data'] = 'train' \n",
    "carv_test['data'] = 'test' \n",
    "carv_test = carv_test[carv_train.columns] # the columns in the two data frames should be in same order to enable concatenation \n",
    "carv_all = pd.concat([carv_train, carv_test], axis = 0) \n",
    "carv_all.reset_index(inplace = True, drop = True) # rest and drop old index\n",
    "\n",
    "# We will make dummies for V1 (\"Customer Subtype\")by looking at response variable , i.e. 'V86'\n",
    "round(carv_train.groupby(['V1'])['V86'].mean(), 2)\n",
    "\n",
    "# categories with V86 = 0 are 15, 16, 17, 18, 19, 21, 28, 40\n",
    "# categories with V86 = 0.02 are 23, 25, 26, 27, 29, 41\n",
    "# categories with V86= 0.03 are 24, 30, 31\n",
    "# categories with V86 = 0.04 are 4, 5, 9, 22, 35\n",
    "# categories with V86= 0.05 are 10, 34\n",
    "# categories with V86 = 0.06 are 11, 32, 33, 39\n",
    "# categories with V86 = 0.07 are 2, 7, 13, 36, 38\n",
    "# categories with V86 = 0.08 are 20, 37 \n",
    "# categories with V86 = 0.1 are 1, 3, 6\n",
    "# categories with V86 = 0.14 are 12\n",
    "# categories with V86 = 0.15 are 8\n",
    "\n",
    "for i in range(len(carv_all)):\n",
    "    if carv_all[\"V1\"][i] in [15, 16, 17, 18, 19, 21, 28, 40]:\n",
    "        carv_all.loc[i,\"V1\"]=\"avg_res_00\"\n",
    "    if carv_all[\"V1\"][i] in [23, 25, 26, 27, 29, 41]:\n",
    "        carv_all.loc[i,\"V1\"]=\"avg_res_02\"\n",
    "    if carv_all[\"V1\"][i] in [24, 30, 31]:\n",
    "        carv_all.loc[i,\"V1\"]=\"avg_res_03\"\n",
    "    if carv_all[\"V1\"][i] in [4, 5, 9, 22, 35]:\n",
    "        carv_all.loc[i,\"V1\"]=\"avg_res_04\"\n",
    "    if carv_all[\"V1\"][i] in [10, 34]:\n",
    "        carv_all.loc[i,\"V1\"]=\"avg_res_05\"\n",
    "    if carv_all[\"V1\"][i] in [11, 32, 33, 39]:\n",
    "        carv_all.loc[i,\"V1\"]=\"avg_res_06\"\n",
    "    if carv_all[\"V1\"][i] in [2, 7, 13, 36, 38]:\n",
    "        carv_all.loc[i,\"V1\"]=\"avg_res_07\"\n",
    "    if carv_all[\"V1\"][i] in [20, 37]:\n",
    "        carv_all.loc[i,\"V1\"]=\"avg_res_08\"\n",
    "    if carv_all[\"V1\"][i] in [1, 3, 6]:\n",
    "        carv_all.loc[i,\"V1\"]=\"avg_res_10\"\n",
    "    if carv_all[\"V1\"][i] == 12:\n",
    "        carv_all.loc[i,\"V1\"]=\"avg_res_14\"\n",
    "    if carv_all[\"V1\"][i] == 8:\n",
    "        carv_all.loc[i,\"V1\"]=\"avg_res_15\"\n",
    "        \n",
    "carv_all['V1'].value_counts() # column \"V1\" has been converted to 11 categories from 40 categories \n",
    "# and we should make dummy for it\n",
    "\n",
    "# The variable V2 (\"Number of houses\") is a numeric variable and should stay as it is\n",
    "\n",
    "# The variable V3 (\"Average size household\") is a numeric variable and should stay as it is\\\n",
    "\n",
    "# The variable V4(\"Average age range\") is a numeric variable but it represent a category i.e. age range as shown below\n",
    "# 1 is 20-30 years; 2 is 30-40 years; 3 is 40-50 years; 4 is 50-60 years; 5 is 60-70 years; 6 is 70-80 years\n",
    "# We have convert it to a numeric variable with average age from the range i.e 20-30 will be 25\n",
    "for i in range(len(carv_all)):\n",
    "    if carv_all[\"V4\"][i] == 1:\n",
    "        carv_all.loc[i,\"V4\"]=25\n",
    "    if carv_all[\"V4\"][i] == 2:\n",
    "        carv_all.loc[i,\"V4\"]=35\n",
    "    if carv_all[\"V4\"][i] == 3:\n",
    "        carv_all.loc[i,\"V4\"]=45\n",
    "    if carv_all[\"V4\"][i] == 4:\n",
    "        carv_all.loc[i,\"V4\"]=55\n",
    "    if carv_all[\"V4\"][i] == 5:\n",
    "        carv_all.loc[i,\"V4\"]=65\n",
    "    if carv_all[\"V4\"][i] == 6:\n",
    "        carv_all.loc[i,\"V4\"]=75  \n",
    "\n",
    "carv_all['V4'].value_counts() # column \"V4\" has been converted to numeric age\n",
    "\n",
    "# The variable V5 (\"Customer main type\") is a categorical variable and we should make dummy for it\n",
    "\n",
    "# Now we will convert variable V1 and V5 to dummies\n",
    "cat_vars = [\"V1\", \"V5\"]\n",
    "\n",
    "for col in cat_vars:\n",
    "    dummy = pd.get_dummies(carv_all[col], drop_first = True, prefix = col)\n",
    "    carv_all = pd.concat([carv_all, dummy], axis = 1)\n",
    "    del carv_all[col]\n",
    "    print(col)\n",
    "del dummy\n",
    "\n",
    "# There is no null value\n",
    "\n",
    "# Separate the train and test dataset\n",
    "carv_train = carv_all[carv_all['data'] == 'train']\n",
    "del carv_train['data']\n",
    "carv_test = carv_all[carv_all['data'] == 'test']\n",
    "carv_test.drop(['V86','data'], axis = 1, inplace = True)\n",
    "\n",
    "x = carv_train.drop(['V86'], axis = 1)\n",
    "y = carv_train['V86']"
   ]
  },
  {
   "cell_type": "code",
   "execution_count": 26,
   "metadata": {},
   "outputs": [],
   "source": [
    "from sklearn.model_selection import train_test_split\n",
    "# Separate the train and test data\n",
    "x_train, x_val, y_train, y_val = train_test_split (x, y, test_size = 0.2, random_state = 2, stratify = y)\n",
    "# split into 80:20 randomly with seed = 2\n",
    "\n",
    "# make the index of training data serial\n",
    "x_train.index = [i for i in range(len(x_train))]\n",
    "y_train.index = [i for i in range(len(y_train))]"
   ]
  },
  {
   "cell_type": "markdown",
   "metadata": {},
   "source": [
    "### Model building"
   ]
  },
  {
   "cell_type": "code",
   "execution_count": 41,
   "metadata": {},
   "outputs": [
    {
     "name": "stderr",
     "output_type": "stream",
     "text": [
      "[Parallel(n_jobs=1)]: Using backend SequentialBackend with 1 concurrent workers.\n"
     ]
    },
    {
     "name": "stdout",
     "output_type": "stream",
     "text": [
      "--- 755.0128231048584 seconds ---\n",
      "RandomForestClassifier(bootstrap=False, ccp_alpha=0.0, class_weight='balanced',\n",
      "                       criterion='entropy', max_depth=5, max_features=19,\n",
      "                       max_leaf_nodes=None, max_samples=None,\n",
      "                       min_impurity_decrease=0.0, min_impurity_split=None,\n",
      "                       min_samples_leaf=2, min_samples_split=16,\n",
      "                       min_weight_fraction_leaf=0.0, n_estimators=700, n_jobs=1,\n",
      "                       oob_score=False, random_state=None, verbose=1,\n",
      "                       warm_start=False)\n"
     ]
    },
    {
     "name": "stderr",
     "output_type": "stream",
     "text": [
      "[Parallel(n_jobs=1)]: Done 700 out of 700 | elapsed:    3.4s finished\n"
     ]
    }
   ],
   "source": [
    "from sklearn.model_selection import RandomizedSearchCV\n",
    "from sklearn.ensemble import RandomForestClassifier\n",
    "\n",
    "param_dist = {\"n_estimators\":[ 200, 300, 500, 700, 1000],\n",
    "              \"max_features\": [13, 15, 17, 19],\n",
    "              # \"bootstrap\": [True, False],\n",
    "              #  'class_weight':[None,'balanced'], \n",
    "              # 'criterion':['entropy','gini'],\n",
    "              'max_depth':[5, 6],\n",
    "              'min_samples_leaf':[2, 4, 6, 8, 10], \n",
    "              'min_samples_split':[4, 8, 12, 16, 20]\n",
    "             }\n",
    "# Total parameter combinations = 5*4*2*5*5 = 1000\n",
    "\n",
    "clf = RandomForestClassifier(verbose = 1, n_jobs = 1, class_weight = 'balanced', criterion = 'entropy', bootstrap = False)\n",
    "\n",
    "\n",
    "start_time = time.time()\n",
    "n_iter_search = 200 # 20 percent of 1000 is 200\n",
    "random_search = RandomizedSearchCV(clf, \n",
    "                                   param_distributions = param_dist, \n",
    "                                   n_iter = n_iter_search, # number of parameter combinations to be tried out\n",
    "                                   cv = 10, # 10 fold cross validation\n",
    "                                   scoring = 'roc_auc', # default for classification is 'accuracy'\n",
    "                                   n_jobs = -1) # make n_jobs = 1, always or else it will hang  \n",
    "\n",
    "random_search.fit(x, y)\n",
    "print(\"--- %s seconds ---\" % (time.time() - start_time))\n",
    "print(random_search.best_estimator_)"
   ]
  },
  {
   "cell_type": "code",
   "execution_count": 42,
   "metadata": {},
   "outputs": [],
   "source": [
    "def report(results, n_top=3):\n",
    "    for i in range(1, n_top + 1):\n",
    "        candidates = np.flatnonzero(results['rank_test_score'] == i)\n",
    "        for candidate in candidates:\n",
    "            print(\"Model with rank: {0}\".format(i))\n",
    "            print(\"Mean validation score: {0:.3f} (std: {1:.5f})\".format(\n",
    "                  results['mean_test_score'][candidate],\n",
    "                  results['std_test_score'][candidate]))\n",
    "            print(\"Parameters: {0}\".format(results['params'][candidate]))\n",
    "            print(\"\") "
   ]
  },
  {
   "cell_type": "code",
   "execution_count": 43,
   "metadata": {},
   "outputs": [
    {
     "name": "stdout",
     "output_type": "stream",
     "text": [
      "Model with rank: 1\n",
      "Mean validation score: 0.772 (std: 0.03648)\n",
      "Parameters: {'n_estimators': 700, 'min_samples_split': 16, 'min_samples_leaf': 2, 'max_features': 19, 'max_depth': 5}\n",
      "\n",
      "Model with rank: 2\n",
      "Mean validation score: 0.772 (std: 0.03620)\n",
      "Parameters: {'n_estimators': 200, 'min_samples_split': 12, 'min_samples_leaf': 2, 'max_features': 19, 'max_depth': 5}\n",
      "\n",
      "Model with rank: 3\n",
      "Mean validation score: 0.772 (std: 0.03529)\n",
      "Parameters: {'n_estimators': 300, 'min_samples_split': 20, 'min_samples_leaf': 8, 'max_features': 13, 'max_depth': 6}\n",
      "\n",
      "Model with rank: 4\n",
      "Mean validation score: 0.772 (std: 0.03490)\n",
      "Parameters: {'n_estimators': 500, 'min_samples_split': 12, 'min_samples_leaf': 4, 'max_features': 13, 'max_depth': 6}\n",
      "\n",
      "Model with rank: 5\n",
      "Mean validation score: 0.772 (std: 0.03557)\n",
      "Parameters: {'n_estimators': 1000, 'min_samples_split': 16, 'min_samples_leaf': 4, 'max_features': 19, 'max_depth': 6}\n",
      "\n",
      "Model with rank: 6\n",
      "Mean validation score: 0.772 (std: 0.03463)\n",
      "Parameters: {'n_estimators': 500, 'min_samples_split': 20, 'min_samples_leaf': 2, 'max_features': 17, 'max_depth': 6}\n",
      "\n",
      "Model with rank: 7\n",
      "Mean validation score: 0.772 (std: 0.03392)\n",
      "Parameters: {'n_estimators': 300, 'min_samples_split': 12, 'min_samples_leaf': 6, 'max_features': 13, 'max_depth': 6}\n",
      "\n",
      "Model with rank: 8\n",
      "Mean validation score: 0.772 (std: 0.03531)\n",
      "Parameters: {'n_estimators': 300, 'min_samples_split': 8, 'min_samples_leaf': 8, 'max_features': 19, 'max_depth': 6}\n",
      "\n",
      "Model with rank: 9\n",
      "Mean validation score: 0.772 (std: 0.03584)\n",
      "Parameters: {'n_estimators': 700, 'min_samples_split': 8, 'min_samples_leaf': 6, 'max_features': 13, 'max_depth': 6}\n",
      "\n",
      "Model with rank: 10\n",
      "Mean validation score: 0.772 (std: 0.03648)\n",
      "Parameters: {'n_estimators': 500, 'min_samples_split': 20, 'min_samples_leaf': 4, 'max_features': 15, 'max_depth': 6}\n",
      "\n"
     ]
    }
   ],
   "source": [
    "report(random_search.cv_results_,10)"
   ]
  },
  {
   "cell_type": "code",
   "execution_count": 44,
   "metadata": {},
   "outputs": [
    {
     "name": "stderr",
     "output_type": "stream",
     "text": [
      "[Parallel(n_jobs=1)]: Using backend SequentialBackend with 1 concurrent workers.\n",
      "[Parallel(n_jobs=1)]: Done 700 out of 700 | elapsed:    3.4s finished\n"
     ]
    },
    {
     "data": {
      "text/plain": [
       "RandomForestClassifier(bootstrap=False, ccp_alpha=0.0, class_weight='balanced',\n",
       "                       criterion='entropy', max_depth=5, max_features=19,\n",
       "                       max_leaf_nodes=None, max_samples=None,\n",
       "                       min_impurity_decrease=0.0, min_impurity_split=None,\n",
       "                       min_samples_leaf=2, min_samples_split=16,\n",
       "                       min_weight_fraction_leaf=0.0, n_estimators=700, n_jobs=1,\n",
       "                       oob_score=False, random_state=None, verbose=1,\n",
       "                       warm_start=False)"
      ]
     },
     "execution_count": 44,
     "metadata": {},
     "output_type": "execute_result"
    }
   ],
   "source": [
    "clf_rf = random_search.best_estimator_\n",
    "clf_rf.fit(x,y)"
   ]
  },
  {
   "cell_type": "code",
   "execution_count": 60,
   "metadata": {},
   "outputs": [
    {
     "data": {
      "text/plain": [
       "(5822, 102)"
      ]
     },
     "execution_count": 60,
     "metadata": {},
     "output_type": "execute_result"
    }
   ],
   "source": [
    "x.shape"
   ]
  },
  {
   "cell_type": "markdown",
   "metadata": {},
   "source": [
    "#### finding cut-offs and fbeta score"
   ]
  },
  {
   "cell_type": "code",
   "execution_count": 45,
   "metadata": {},
   "outputs": [
    {
     "name": "stderr",
     "output_type": "stream",
     "text": [
      "[Parallel(n_jobs=1)]: Using backend SequentialBackend with 1 concurrent workers.\n"
     ]
    },
    {
     "name": "stdout",
     "output_type": "stream",
     "text": [
      "0.46\n",
      "0.59\n"
     ]
    },
    {
     "name": "stderr",
     "output_type": "stream",
     "text": [
      "[Parallel(n_jobs=1)]: Done 700 out of 700 | elapsed:    0.1s finished\n"
     ]
    },
    {
     "data": {
      "text/plain": [
       "0.463506711409396"
      ]
     },
     "execution_count": 45,
     "metadata": {},
     "output_type": "execute_result"
    }
   ],
   "source": [
    "cutoffs = np.linspace(0.01, 0.99, 99)\n",
    "\n",
    "train_score = clf_rf.predict_proba(x)[:, 1]\n",
    "\n",
    "real  = y\n",
    "\n",
    "Fbeta_all = []\n",
    "KS_all = []\n",
    "\n",
    "for cutoff in cutoffs:\n",
    "    \n",
    "    predicted = (train_score > cutoff).astype(int)\n",
    "\n",
    "    TP = ((predicted==1) & (real==1)).sum()\n",
    "    TN = ((predicted==0) & (real==0)).sum()\n",
    "    FP = ((predicted==1) & (real==0)).sum()\n",
    "    FN = ((predicted==0) & (real==1)).sum()\n",
    "    \n",
    "    P = TP+FN\n",
    "    N = TN+FP\n",
    "    \n",
    "    Recall = (TP/P)\n",
    "    \n",
    "    Precision = TP/(TP+FP)\n",
    "      \n",
    "    KS = (TP/P)-(FP/N)\n",
    "    \n",
    "    beta = 2\n",
    "    Fbeta =(1+beta**2)*Precision*Recall/((beta**2)*Precision+Recall) # beta = 2\n",
    "    \n",
    "    KS_all.append(KS)\n",
    "    \n",
    "    Fbeta_all.append(Fbeta)\n",
    "\n",
    "mycutoff = cutoffs[KS_all == max(KS_all)][0]\n",
    "print(mycutoff)\n",
    "mycutoff_Fbeta = cutoffs[Fbeta_all == max(Fbeta_all)][0]\n",
    "print(mycutoff_Fbeta)\n",
    "max(Fbeta_all)"
   ]
  },
  {
   "cell_type": "markdown",
   "metadata": {},
   "source": [
    "#### confusion matrix for whole training data"
   ]
  },
  {
   "cell_type": "code",
   "execution_count": 51,
   "metadata": {},
   "outputs": [
    {
     "name": "stderr",
     "output_type": "stream",
     "text": [
      "[Parallel(n_jobs=1)]: Using backend SequentialBackend with 1 concurrent workers.\n",
      "[Parallel(n_jobs=1)]: Done 700 out of 700 | elapsed:    0.1s finished\n",
      "[Parallel(n_jobs=1)]: Using backend SequentialBackend with 1 concurrent workers.\n",
      "[Parallel(n_jobs=1)]: Done 700 out of 700 | elapsed:    0.1s finished\n"
     ]
    },
    {
     "data": {
      "text/html": [
       "<div>\n",
       "<style scoped>\n",
       "    .dataframe tbody tr th:only-of-type {\n",
       "        vertical-align: middle;\n",
       "    }\n",
       "\n",
       "    .dataframe tbody tr th {\n",
       "        vertical-align: top;\n",
       "    }\n",
       "\n",
       "    .dataframe thead th {\n",
       "        text-align: right;\n",
       "    }\n",
       "</style>\n",
       "<table border=\"1\" class=\"dataframe\">\n",
       "  <thead>\n",
       "    <tr style=\"text-align: right;\">\n",
       "      <th>predicted</th>\n",
       "      <th>0</th>\n",
       "      <th>1</th>\n",
       "    </tr>\n",
       "    <tr>\n",
       "      <th>real</th>\n",
       "      <th></th>\n",
       "      <th></th>\n",
       "    </tr>\n",
       "  </thead>\n",
       "  <tbody>\n",
       "    <tr>\n",
       "      <th>0.0</th>\n",
       "      <td>4703</td>\n",
       "      <td>771</td>\n",
       "    </tr>\n",
       "    <tr>\n",
       "      <th>1.0</th>\n",
       "      <td>127</td>\n",
       "      <td>221</td>\n",
       "    </tr>\n",
       "  </tbody>\n",
       "</table>\n",
       "</div>"
      ],
      "text/plain": [
       "predicted     0    1\n",
       "real                \n",
       "0.0        4703  771\n",
       "1.0         127  221"
      ]
     },
     "execution_count": 51,
     "metadata": {},
     "output_type": "execute_result"
    }
   ],
   "source": [
    "prob_score = pd.Series(list(zip(*clf_rf.predict_proba(x)))[1])\n",
    "\n",
    "predicted = pd.Series([0]*len(x))\n",
    "\n",
    "predicted[prob_score>float(mycutoff_Fbeta)] = 1\n",
    "                      \n",
    "df_test = pd.DataFrame(list(zip(y,predicted)), columns = [\"real\",\"predicted\"])\n",
    "\n",
    "k = pd.crosstab(df_test['real'], df_test[\"predicted\"])\n",
    "k"
   ]
  },
  {
   "cell_type": "markdown",
   "metadata": {},
   "source": [
    "#### Validate by fbeta score for validation data after building model on train data"
   ]
  },
  {
   "cell_type": "code",
   "execution_count": 54,
   "metadata": {},
   "outputs": [
    {
     "name": "stderr",
     "output_type": "stream",
     "text": [
      "[Parallel(n_jobs=1)]: Using backend SequentialBackend with 1 concurrent workers.\n",
      "[Parallel(n_jobs=1)]: Done 700 out of 700 | elapsed:    2.7s finished\n",
      "[Parallel(n_jobs=1)]: Using backend SequentialBackend with 1 concurrent workers.\n",
      "[Parallel(n_jobs=1)]: Done 700 out of 700 | elapsed:    0.0s finished\n"
     ]
    },
    {
     "data": {
      "text/plain": [
       "0.8214577305285475"
      ]
     },
     "execution_count": 54,
     "metadata": {},
     "output_type": "execute_result"
    }
   ],
   "source": [
    "from sklearn.metrics import fbeta_score\n",
    "\n",
    "y_true = y_val\n",
    "\n",
    "clf_rf.fit(x_train, y_train)\n",
    "\n",
    "prob_pred = clf_rf.predict_proba(x_val)[:,1]\n",
    "y_pred = (prob_pred > mycutoff_Fbeta).astype(int)\n",
    "\n",
    "score = fbeta_score(y_true, y_pred, average = 'weighted', beta = 2)\n",
    "score"
   ]
  },
  {
   "cell_type": "markdown",
   "metadata": {},
   "source": [
    "### Predict for train data"
   ]
  },
  {
   "cell_type": "code",
   "execution_count": 63,
   "metadata": {},
   "outputs": [
    {
     "name": "stdout",
     "output_type": "stream",
     "text": [
      "[0.18137513 0.80287746 0.69066025 ... 0.59574767 0.5387448  0.32129128]\n"
     ]
    },
    {
     "name": "stderr",
     "output_type": "stream",
     "text": [
      "[Parallel(n_jobs=1)]: Using backend SequentialBackend with 1 concurrent workers.\n",
      "[Parallel(n_jobs=1)]: Done 700 out of 700 | elapsed:    0.1s finished\n"
     ]
    },
    {
     "data": {
      "text/plain": [
       "array([0, 1, 1, ..., 1, 0, 0])"
      ]
     },
     "execution_count": 63,
     "metadata": {},
     "output_type": "execute_result"
    }
   ],
   "source": [
    "test_score = clf_rf.predict_proba(carv_test)[:,1]\n",
    "print(test_score)\n",
    "\n",
    "test_classes = (test_score>mycutoff_Fbeta).astype(int)\n",
    "test_classes"
   ]
  },
  {
   "cell_type": "code",
   "execution_count": 64,
   "metadata": {},
   "outputs": [
    {
     "data": {
      "text/html": [
       "<div>\n",
       "<style scoped>\n",
       "    .dataframe tbody tr th:only-of-type {\n",
       "        vertical-align: middle;\n",
       "    }\n",
       "\n",
       "    .dataframe tbody tr th {\n",
       "        vertical-align: top;\n",
       "    }\n",
       "\n",
       "    .dataframe thead th {\n",
       "        text-align: right;\n",
       "    }\n",
       "</style>\n",
       "<table border=\"1\" class=\"dataframe\">\n",
       "  <thead>\n",
       "    <tr style=\"text-align: right;\">\n",
       "      <th></th>\n",
       "      <th>V86</th>\n",
       "    </tr>\n",
       "  </thead>\n",
       "  <tbody>\n",
       "    <tr>\n",
       "      <th>0</th>\n",
       "      <td>0</td>\n",
       "    </tr>\n",
       "    <tr>\n",
       "      <th>1</th>\n",
       "      <td>1</td>\n",
       "    </tr>\n",
       "    <tr>\n",
       "      <th>2</th>\n",
       "      <td>1</td>\n",
       "    </tr>\n",
       "    <tr>\n",
       "      <th>3</th>\n",
       "      <td>0</td>\n",
       "    </tr>\n",
       "    <tr>\n",
       "      <th>4</th>\n",
       "      <td>0</td>\n",
       "    </tr>\n",
       "    <tr>\n",
       "      <th>5</th>\n",
       "      <td>0</td>\n",
       "    </tr>\n",
       "    <tr>\n",
       "      <th>6</th>\n",
       "      <td>0</td>\n",
       "    </tr>\n",
       "    <tr>\n",
       "      <th>7</th>\n",
       "      <td>0</td>\n",
       "    </tr>\n",
       "    <tr>\n",
       "      <th>8</th>\n",
       "      <td>0</td>\n",
       "    </tr>\n",
       "    <tr>\n",
       "      <th>9</th>\n",
       "      <td>0</td>\n",
       "    </tr>\n",
       "  </tbody>\n",
       "</table>\n",
       "</div>"
      ],
      "text/plain": [
       "   V86\n",
       "0    0\n",
       "1    1\n",
       "2    1\n",
       "3    0\n",
       "4    0\n",
       "5    0\n",
       "6    0\n",
       "7    0\n",
       "8    0\n",
       "9    0"
      ]
     },
     "execution_count": 64,
     "metadata": {},
     "output_type": "execute_result"
    }
   ],
   "source": [
    "submission = pd.DataFrame(list(test_classes), columns = ['V86'])\n",
    "submission.head(10)"
   ]
  },
  {
   "cell_type": "code",
   "execution_count": 67,
   "metadata": {},
   "outputs": [],
   "source": [
    "submission.to_csv('P.Akash_Pattanaik_Project_2.csv', index = False)"
   ]
  },
  {
   "cell_type": "code",
   "execution_count": 66,
   "metadata": {},
   "outputs": [
    {
     "data": {
      "text/plain": [
       "0    3348\n",
       "1     652\n",
       "Name: V86, dtype: int64"
      ]
     },
     "execution_count": 66,
     "metadata": {},
     "output_type": "execute_result"
    }
   ],
   "source": [
    "submission[\"V86\"].value_counts()"
   ]
  }
 ],
 "metadata": {
  "kernelspec": {
   "display_name": "Python 3",
   "language": "python",
   "name": "python3"
  },
  "language_info": {
   "codemirror_mode": {
    "name": "ipython",
    "version": 3
   },
   "file_extension": ".py",
   "mimetype": "text/x-python",
   "name": "python",
   "nbconvert_exporter": "python",
   "pygments_lexer": "ipython3",
   "version": "3.7.7"
  }
 },
 "nbformat": 4,
 "nbformat_minor": 4
}
